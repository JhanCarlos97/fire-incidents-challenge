{
 "cells": [
  {
   "cell_type": "code",
   "execution_count": 1,
   "metadata": {},
   "outputs": [],
   "source": [
    "import psycopg2\n",
    "from dotenv import load_dotenv\n",
    "import os\n",
    "\n",
    "# Load environment variables from .env file\n",
    "load_dotenv('../docker/.env')\n",
    "\n",
    "# Database connection parameters\n",
    "db_params = {\n",
    "    'host': os.getenv('POSTGRES_HOST'),\n",
    "    'user': os.getenv('POSTGRES_USER'),\n",
    "    'password': os.getenv('POSTGRES_PASSWORD'),\n",
    "    'dbname': os.getenv('POSTGRES_DB'),\n",
    "    'port': int(os.getenv('POSTGRES_PORT')),\n",
    "}"
   ]
  },
  {
   "cell_type": "code",
   "execution_count": 2,
   "metadata": {},
   "outputs": [],
   "source": [
    "# Function to fetch and display data from a table from a connected db\n",
    "def fetch_and_display_data(table_name, conn_cursor):\n",
    "    conn_cursor.execute(f\"SELECT * FROM test_rendered_models.{table_name} LIMIT 4\")\n",
    "    columns = [desc[0] for desc in conn_cursor.description]\n",
    "    data = conn_cursor.fetchall()\n",
    "    print(f\"\\nData from table: {table_name}\")\n",
    "    print(columns)\n",
    "    for row in data:\n",
    "        print(row)"
   ]
  },
  {
   "cell_type": "code",
   "execution_count": 3,
   "metadata": {},
   "outputs": [
    {
     "name": "stdout",
     "output_type": "stream",
     "text": [
      "\n",
      "Data from table: aggregated_battalion\n",
      "['battalion', 'incident_count']\n",
      "('B01', 80625)\n",
      "('B02', 98703)\n",
      "('B03', 95470)\n",
      "('B04', 69073)\n",
      "\n",
      "Data from table: aggregated_district\n",
      "['city', 'zipcode', 'station_area', 'incident_count']\n",
      "('AI', '94105', '16', 1)\n",
      "('AI', '94111', '08', 1)\n",
      "('AI', '94123', '48', 1)\n",
      "('BN', '94005', '44', 6)\n",
      "\n",
      "Data from table: aggregated_time_period\n",
      "['day', 'month', 'year', 'incident_count']\n",
      "(datetime.datetime(2003, 1, 1, 0, 0), datetime.datetime(2003, 1, 1, 0, 0), datetime.datetime(2003, 1, 1, 0, 0), 144)\n",
      "(datetime.datetime(2003, 1, 2, 0, 0), datetime.datetime(2003, 1, 1, 0, 0), datetime.datetime(2003, 1, 1, 0, 0), 84)\n",
      "(datetime.datetime(2003, 1, 3, 0, 0), datetime.datetime(2003, 1, 1, 0, 0), datetime.datetime(2003, 1, 1, 0, 0), 120)\n",
      "(datetime.datetime(2003, 1, 4, 0, 0), datetime.datetime(2003, 1, 1, 0, 0), datetime.datetime(2003, 1, 1, 0, 0), 90)\n",
      "\n",
      "Data from table: fact_fire_incident\n",
      "['id', 'incident_date', 'city', 'zipcode', 'station_area', 'battalion']\n",
      "('080283040', datetime.datetime(2008, 4, 1, 0, 0), 'SF', '94110', '11', 'B06')\n",
      "('080283030', datetime.datetime(2008, 4, 1, 0, 0), 'SF', '94107', '37', 'B10')\n",
      "('080283090', datetime.datetime(2008, 4, 1, 0, 0), 'SF', '94105', '01', 'B03')\n",
      "('080283140', datetime.datetime(2008, 4, 1, 0, 0), 'SF', '94102', '36', 'B02')\n"
     ]
    }
   ],
   "source": [
    "# Connect to the PostgreSQL database\n",
    "conn = psycopg2.connect(**db_params)\n",
    "cursor = conn.cursor()\n",
    "\n",
    "# Fetch and display data from each table\n",
    "fetch_and_display_data('aggregated_battalion',cursor)\n",
    "fetch_and_display_data('aggregated_district',cursor)\n",
    "fetch_and_display_data('aggregated_time_period',cursor)\n",
    "fetch_and_display_data('fact_fire_incident',cursor)\n",
    "\n",
    "# Close the database connection\n",
    "cursor.close()\n",
    "conn.close()"
   ]
  }
 ],
 "metadata": {
  "kernelspec": {
   "display_name": "Python 3",
   "language": "python",
   "name": "python3"
  },
  "language_info": {
   "codemirror_mode": {
    "name": "ipython",
    "version": 3
   },
   "file_extension": ".py",
   "mimetype": "text/x-python",
   "name": "python",
   "nbconvert_exporter": "python",
   "pygments_lexer": "ipython3",
   "version": "3.9.10"
  }
 },
 "nbformat": 4,
 "nbformat_minor": 2
}
